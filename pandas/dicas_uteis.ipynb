{
 "cells": [
  {
   "cell_type": "code",
   "execution_count": 1,
   "id": "4ecc9730",
   "metadata": {},
   "outputs": [],
   "source": [
    "import pandas as pd\n",
    "import numpy as np"
   ]
  },
  {
   "cell_type": "code",
   "execution_count": 3,
   "id": "fbd38710",
   "metadata": {},
   "outputs": [
    {
     "name": "stdout",
     "output_type": "stream",
     "text": [
      "        data  temperatura_celsius classificacao\n",
      "0 2025-01-01                   12          frio\n",
      "1 2025-01-02                    5    muito frio\n",
      "2 2025-01-03                   28        quente\n",
      "3 2025-01-04                   32  muito quente\n",
      "4 2025-01-05                    9          frio\n",
      "5 2025-01-06                   15          frio\n",
      "6 2025-01-07                   38  muito quente\n",
      "7 2025-01-08                    4    muito frio\n",
      "8 2025-01-09                   25        quente\n",
      "9 2025-01-10                   30  muito quente\n"
     ]
    }
   ],
   "source": [
    "#Criando um df temporário para visualizar melhor o plot\n",
    "\n",
    "# Criando o DataFrame\n",
    "dados = {\n",
    "    'data': pd.date_range(start='2025-01-01', periods=10, freq='D'),\n",
    "    'temperatura_celsius': [12, 5, 28, 32, 9, 15, 38, 4, 25, 30],\n",
    "}\n",
    "\n",
    "# Função para classificar a temperatura\n",
    "def classificar_temp(temp):\n",
    "    if temp <= 5:\n",
    "        return \"muito frio\"\n",
    "    elif temp <= 15:\n",
    "        return \"frio\"\n",
    "    elif temp <= 28:\n",
    "        return \"quente\"\n",
    "    else:\n",
    "        return \"muito quente\"\n",
    "\n",
    "# Adicionando a coluna de classificação\n",
    "df = pd.DataFrame(dados)\n",
    "df['classificacao'] = df['temperatura_celsius'].apply(classificar_temp)\n",
    "\n",
    "print(df)\n"
   ]
  },
  {
   "cell_type": "code",
   "execution_count": 9,
   "id": "b8a5a2cc",
   "metadata": {},
   "outputs": [
    {
     "data": {
      "text/html": [
       "<div>\n",
       "<style scoped>\n",
       "    .dataframe tbody tr th:only-of-type {\n",
       "        vertical-align: middle;\n",
       "    }\n",
       "\n",
       "    .dataframe tbody tr th {\n",
       "        vertical-align: top;\n",
       "    }\n",
       "\n",
       "    .dataframe thead th {\n",
       "        text-align: right;\n",
       "    }\n",
       "</style>\n",
       "<table border=\"1\" class=\"dataframe\">\n",
       "  <thead>\n",
       "    <tr style=\"text-align: right;\">\n",
       "      <th></th>\n",
       "      <th>data</th>\n",
       "      <th>temperatura_celsius</th>\n",
       "    </tr>\n",
       "    <tr>\n",
       "      <th>classificacao</th>\n",
       "      <th></th>\n",
       "      <th></th>\n",
       "    </tr>\n",
       "  </thead>\n",
       "  <tbody>\n",
       "    <tr>\n",
       "      <th>frio</th>\n",
       "      <td>3</td>\n",
       "      <td>3</td>\n",
       "    </tr>\n",
       "    <tr>\n",
       "      <th>muito frio</th>\n",
       "      <td>2</td>\n",
       "      <td>2</td>\n",
       "    </tr>\n",
       "    <tr>\n",
       "      <th>muito quente</th>\n",
       "      <td>3</td>\n",
       "      <td>3</td>\n",
       "    </tr>\n",
       "    <tr>\n",
       "      <th>quente</th>\n",
       "      <td>2</td>\n",
       "      <td>2</td>\n",
       "    </tr>\n",
       "  </tbody>\n",
       "</table>\n",
       "</div>"
      ],
      "text/plain": [
       "               data  temperatura_celsius\n",
       "classificacao                           \n",
       "frio              3                    3\n",
       "muito frio        2                    2\n",
       "muito quente      3                    3\n",
       "quente            2                    2"
      ]
     },
     "execution_count": 9,
     "metadata": {},
     "output_type": "execute_result"
    }
   ],
   "source": [
    "df.groupby(by='classificacao').count()"
   ]
  }
 ],
 "metadata": {
  "kernelspec": {
   "display_name": "base",
   "language": "python",
   "name": "python3"
  },
  "language_info": {
   "codemirror_mode": {
    "name": "ipython",
    "version": 3
   },
   "file_extension": ".py",
   "mimetype": "text/x-python",
   "name": "python",
   "nbconvert_exporter": "python",
   "pygments_lexer": "ipython3",
   "version": "3.12.4"
  }
 },
 "nbformat": 4,
 "nbformat_minor": 5
}
