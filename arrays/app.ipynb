{
 "cells": [
  {
   "cell_type": "code",
   "execution_count": 2,
   "id": "fe629638",
   "metadata": {},
   "outputs": [],
   "source": [
    "import numpy as np"
   ]
  },
  {
   "cell_type": "code",
   "execution_count": 3,
   "id": "f0326d5e",
   "metadata": {},
   "outputs": [
    {
     "data": {
      "text/plain": [
       "(2, 3)"
      ]
     },
     "execution_count": 3,
     "metadata": {},
     "output_type": "execute_result"
    }
   ],
   "source": [
    "#Criação de um array 2D\n",
    "arr = [[1,2,3],[4,5,6]]\n",
    "array = np.array(arr)\n",
    "array.shape"
   ]
  },
  {
   "cell_type": "code",
   "execution_count": 5,
   "id": "f289e6e7",
   "metadata": {},
   "outputs": [
    {
     "name": "stdout",
     "output_type": "stream",
     "text": [
      "[[0. 0. 0.]\n",
      " [0. 0. 0.]\n",
      " [0. 0. 0.]]\n",
      "[[1. 1. 1.]\n",
      " [1. 1. 1.]\n",
      " [1. 1. 1.]]\n"
     ]
    }
   ],
   "source": [
    "#Arrays contendo apenas zeros e ums\n",
    "size = (3,3)\n",
    "array_zeros = np.zeros(size)\n",
    "print(array_zeros)\n",
    "\n",
    "array_ums = np.ones(size)\n",
    "print(array_ums)"
   ]
  },
  {
   "cell_type": "markdown",
   "id": "13997c60",
   "metadata": {},
   "source": [
    "np.linspace = Usado para criar intervalos de dados linearmente espaçados\n",
    "Isto é, que possuem um ponto inicial e final, e uma quantidade de valores a serem preenchidos\n",
    "Todos os valores terão a mesma distância entre si, de acordo com a quantidade de elementos definida"
   ]
  },
  {
   "cell_type": "code",
   "execution_count": 13,
   "id": "493eab72",
   "metadata": {},
   "outputs": [
    {
     "data": {
      "text/plain": [
       "array([ 0. ,  2.5,  5. ,  7.5, 10. ])"
      ]
     },
     "execution_count": 13,
     "metadata": {},
     "output_type": "execute_result"
    }
   ],
   "source": [
    "#Cria 5 valores entre 0 e 10, com espaçamento igual entre eles\n",
    "lin = np.linspace(0, 10, 5)\n",
    "lin"
   ]
  },
  {
   "cell_type": "code",
   "execution_count": 14,
   "id": "52c61895",
   "metadata": {},
   "outputs": [
    {
     "data": {
      "text/plain": [
       "array([-1.        , -0.97979798, -0.95959596, -0.93939394, -0.91919192,\n",
       "       -0.8989899 , -0.87878788, -0.85858586, -0.83838384, -0.81818182,\n",
       "       -0.7979798 , -0.77777778, -0.75757576, -0.73737374, -0.71717172,\n",
       "       -0.6969697 , -0.67676768, -0.65656566, -0.63636364, -0.61616162,\n",
       "       -0.5959596 , -0.57575758, -0.55555556, -0.53535354, -0.51515152,\n",
       "       -0.49494949, -0.47474747, -0.45454545, -0.43434343, -0.41414141,\n",
       "       -0.39393939, -0.37373737, -0.35353535, -0.33333333, -0.31313131,\n",
       "       -0.29292929, -0.27272727, -0.25252525, -0.23232323, -0.21212121,\n",
       "       -0.19191919, -0.17171717, -0.15151515, -0.13131313, -0.11111111,\n",
       "       -0.09090909, -0.07070707, -0.05050505, -0.03030303, -0.01010101,\n",
       "        0.01010101,  0.03030303,  0.05050505,  0.07070707,  0.09090909,\n",
       "        0.11111111,  0.13131313,  0.15151515,  0.17171717,  0.19191919,\n",
       "        0.21212121,  0.23232323,  0.25252525,  0.27272727,  0.29292929,\n",
       "        0.31313131,  0.33333333,  0.35353535,  0.37373737,  0.39393939,\n",
       "        0.41414141,  0.43434343,  0.45454545,  0.47474747,  0.49494949,\n",
       "        0.51515152,  0.53535354,  0.55555556,  0.57575758,  0.5959596 ,\n",
       "        0.61616162,  0.63636364,  0.65656566,  0.67676768,  0.6969697 ,\n",
       "        0.71717172,  0.73737374,  0.75757576,  0.77777778,  0.7979798 ,\n",
       "        0.81818182,  0.83838384,  0.85858586,  0.87878788,  0.8989899 ,\n",
       "        0.91919192,  0.93939394,  0.95959596,  0.97979798,  1.        ])"
      ]
     },
     "execution_count": 14,
     "metadata": {},
     "output_type": "execute_result"
    }
   ],
   "source": [
    "np.linspace(-1, 1, 100)"
   ]
  },
  {
   "cell_type": "markdown",
   "id": "ae08d7a4",
   "metadata": {},
   "source": [
    "Matriz identidade"
   ]
  },
  {
   "cell_type": "code",
   "execution_count": 16,
   "id": "c9bc1783",
   "metadata": {},
   "outputs": [
    {
     "data": {
      "text/plain": [
       "array([[1., 0., 0., 0.],\n",
       "       [0., 1., 0., 0.],\n",
       "       [0., 0., 1., 0.],\n",
       "       [0., 0., 0., 1.]])"
      ]
     },
     "execution_count": 16,
     "metadata": {},
     "output_type": "execute_result"
    }
   ],
   "source": [
    "n=4\n",
    "x = np.eye(n)\n",
    "x"
   ]
  },
  {
   "cell_type": "code",
   "execution_count": null,
   "id": "db227c03",
   "metadata": {},
   "outputs": [
    {
     "name": "stdout",
     "output_type": "stream",
     "text": [
      "[[0.59724396 0.67053051 0.94578172]\n",
      " [0.50756693 0.0525032  0.93908322]] \n",
      "\n",
      "[[ 27   4 173   5]\n",
      " [ 85 118 178  87]\n",
      " [189  95   9  55]]\n"
     ]
    }
   ],
   "source": [
    "#Criação de valores aleatórios\n",
    "x = np.random.random(size = (2,3)) # gera valores aleatórios entre 0 e 1\n",
    "print(x, \"\\n\")\n",
    "\n",
    "x = np.random.randint(1,200, size = (3,4))\n",
    "print(x)"
   ]
  },
  {
   "cell_type": "markdown",
   "id": "cdc48b8b",
   "metadata": {},
   "source": [
    "Indexação de arrays"
   ]
  },
  {
   "cell_type": "markdown",
   "id": "f3a3a834",
   "metadata": {},
   "source": [
    "Arrays podem ser dimensionais ou bidimensionais\n",
    "\n",
    "arrays dimensionais = np.array(size = 4)\n",
    "arrays bidimensionais = np.array(size = (1,4))"
   ]
  },
  {
   "cell_type": "code",
   "execution_count": 27,
   "id": "4d5249e0",
   "metadata": {},
   "outputs": [
    {
     "name": "stdout",
     "output_type": "stream",
     "text": [
      "[49 61  2 28]\n",
      "28\n"
     ]
    }
   ],
   "source": [
    "#Acessando o último elemento de um array unidimensional\n",
    "a = np.array(np.random.randint(1,100,size=4))\n",
    "print(a)\n",
    "print(a[-1])"
   ]
  },
  {
   "cell_type": "code",
   "execution_count": 29,
   "id": "8d178022",
   "metadata": {},
   "outputs": [
    {
     "data": {
      "text/plain": [
       "array([49, 61])"
      ]
     },
     "execution_count": 29,
     "metadata": {},
     "output_type": "execute_result"
    }
   ],
   "source": [
    "#Acessando mais de um elemento em um array\n",
    "#O segundo elemento é exclusivo, não entra na indexação\n",
    "a[0:2]"
   ]
  },
  {
   "cell_type": "code",
   "execution_count": null,
   "id": "05a69fcc",
   "metadata": {},
   "outputs": [
    {
     "name": "stdout",
     "output_type": "stream",
     "text": [
      "[[ 8 51 20 36]\n",
      " [61  2 51 59]\n",
      " [74 63 91 76]\n",
      " [11 98 25 22]]\n"
     ]
    },
    {
     "data": {
      "text/plain": [
       "array([[ 2, 51],\n",
       "       [63, 91]])"
      ]
     },
     "execution_count": 33,
     "metadata": {},
     "output_type": "execute_result"
    }
   ],
   "source": [
    "#Acessando elementos em um array 2D\n",
    "# B[i:k, j:i]\n",
    "# #O slicing incluirá até k-1 e i-1 respectivamente \n",
    "arr = np.array(np.random.randint(1,100, size=(4,4)))\n",
    "print(arr)\n",
    "\n",
    "\n",
    "\n",
    "arr[1:3, 1:3]"
   ]
  },
  {
   "cell_type": "markdown",
   "id": "f3ca4d8b",
   "metadata": {},
   "source": [
    "Slicing"
   ]
  },
  {
   "cell_type": "code",
   "execution_count": 3,
   "id": "04831c88",
   "metadata": {},
   "outputs": [
    {
     "name": "stdout",
     "output_type": "stream",
     "text": [
      "[ 10.  20.  30.  40.  50.  60.  70.  80.  90. 100.] \n",
      " (10,)\n"
     ]
    }
   ],
   "source": [
    "x = np.linspace(start=10, stop=100, num=10)\n",
    "print(x, \"\\n\", x.shape)"
   ]
  },
  {
   "cell_type": "code",
   "execution_count": 4,
   "id": "8c6c99fa",
   "metadata": {},
   "outputs": [
    {
     "data": {
      "text/plain": [
       "array([[0.        ],\n",
       "       [0.06060606],\n",
       "       [0.12121212],\n",
       "       [0.18181818],\n",
       "       [0.24242424],\n",
       "       [0.3030303 ],\n",
       "       [0.36363636],\n",
       "       [0.42424242],\n",
       "       [0.48484848],\n",
       "       [0.54545455],\n",
       "       [0.60606061],\n",
       "       [0.66666667],\n",
       "       [0.72727273],\n",
       "       [0.78787879],\n",
       "       [0.84848485],\n",
       "       [0.90909091],\n",
       "       [0.96969697],\n",
       "       [1.03030303],\n",
       "       [1.09090909],\n",
       "       [1.15151515],\n",
       "       [1.21212121],\n",
       "       [1.27272727],\n",
       "       [1.33333333],\n",
       "       [1.39393939],\n",
       "       [1.45454545],\n",
       "       [1.51515152],\n",
       "       [1.57575758],\n",
       "       [1.63636364],\n",
       "       [1.6969697 ],\n",
       "       [1.75757576],\n",
       "       [1.81818182],\n",
       "       [1.87878788],\n",
       "       [1.93939394],\n",
       "       [2.        ],\n",
       "       [2.06060606],\n",
       "       [2.12121212],\n",
       "       [2.18181818],\n",
       "       [2.24242424],\n",
       "       [2.3030303 ],\n",
       "       [2.36363636],\n",
       "       [2.42424242],\n",
       "       [2.48484848],\n",
       "       [2.54545455],\n",
       "       [2.60606061],\n",
       "       [2.66666667],\n",
       "       [2.72727273],\n",
       "       [2.78787879],\n",
       "       [2.84848485],\n",
       "       [2.90909091],\n",
       "       [2.96969697],\n",
       "       [3.03030303],\n",
       "       [3.09090909],\n",
       "       [3.15151515],\n",
       "       [3.21212121],\n",
       "       [3.27272727],\n",
       "       [3.33333333],\n",
       "       [3.39393939],\n",
       "       [3.45454545],\n",
       "       [3.51515152],\n",
       "       [3.57575758],\n",
       "       [3.63636364],\n",
       "       [3.6969697 ],\n",
       "       [3.75757576],\n",
       "       [3.81818182],\n",
       "       [3.87878788],\n",
       "       [3.93939394],\n",
       "       [4.        ],\n",
       "       [4.06060606],\n",
       "       [4.12121212],\n",
       "       [4.18181818],\n",
       "       [4.24242424],\n",
       "       [4.3030303 ],\n",
       "       [4.36363636],\n",
       "       [4.42424242],\n",
       "       [4.48484848],\n",
       "       [4.54545455],\n",
       "       [4.60606061],\n",
       "       [4.66666667],\n",
       "       [4.72727273],\n",
       "       [4.78787879],\n",
       "       [4.84848485],\n",
       "       [4.90909091],\n",
       "       [4.96969697],\n",
       "       [5.03030303],\n",
       "       [5.09090909],\n",
       "       [5.15151515],\n",
       "       [5.21212121],\n",
       "       [5.27272727],\n",
       "       [5.33333333],\n",
       "       [5.39393939],\n",
       "       [5.45454545],\n",
       "       [5.51515152],\n",
       "       [5.57575758],\n",
       "       [5.63636364],\n",
       "       [5.6969697 ],\n",
       "       [5.75757576],\n",
       "       [5.81818182],\n",
       "       [5.87878788],\n",
       "       [5.93939394],\n",
       "       [6.        ]])"
      ]
     },
     "execution_count": 4,
     "metadata": {},
     "output_type": "execute_result"
    }
   ],
   "source": [
    "x_novo = np.linspace(0, 6, 100).reshape(-1, 1)  # gera valores de 0 a 6\n",
    "x_novo"
   ]
  },
  {
   "cell_type": "code",
   "execution_count": 4,
   "id": "de0d760c",
   "metadata": {},
   "outputs": [
    {
     "name": "stdout",
     "output_type": "stream",
     "text": [
      "[[ 10.  20.  30.  40.  50.]\n",
      " [ 60.  70.  80.  90. 100.]]\n"
     ]
    }
   ],
   "source": [
    "#Slicing em arrays 2D (matrizes)\n",
    "x = x.reshape(2,5)\n",
    "print(x)"
   ]
  },
  {
   "cell_type": "code",
   "execution_count": 7,
   "id": "c318f94f",
   "metadata": {},
   "outputs": [
    {
     "name": "stdout",
     "output_type": "stream",
     "text": [
      "primeira linha inteira:  [10. 20. 30. 40. 50.]\n",
      "primeira linha, segunda a quarta coluna [20. 30. 40.]\n",
      "última coluna inteira:  [[ 50.]\n",
      " [100.]]\n"
     ]
    }
   ],
   "source": [
    "#Slicing extração de sub arrays bidimensionais\n",
    "print(\"primeira linha inteira: \", x[0, :])\n",
    "print(\"primeira linha, segunda a quarta coluna\", x[0, 1:4])\n",
    "print(\"última coluna inteira: \", x[:, [-1]])"
   ]
  }
 ],
 "metadata": {
  "kernelspec": {
   "display_name": "base",
   "language": "python",
   "name": "python3"
  },
  "language_info": {
   "codemirror_mode": {
    "name": "ipython",
    "version": 3
   },
   "file_extension": ".py",
   "mimetype": "text/x-python",
   "name": "python",
   "nbconvert_exporter": "python",
   "pygments_lexer": "ipython3",
   "version": "3.12.4"
  }
 },
 "nbformat": 4,
 "nbformat_minor": 5
}
