{
 "cells": [
  {
   "cell_type": "code",
   "execution_count": 1,
   "id": "95a44dc9",
   "metadata": {},
   "outputs": [],
   "source": [
    "import numpy as np"
   ]
  },
  {
   "cell_type": "code",
   "execution_count": 5,
   "id": "926c89a9",
   "metadata": {},
   "outputs": [
    {
     "data": {
      "text/plain": [
       "array([1, 1])"
      ]
     },
     "execution_count": 5,
     "metadata": {},
     "output_type": "execute_result"
    }
   ],
   "source": [
    "u = np.array([1,0])\n",
    "v = np.array([0,1])\n",
    "\n",
    "#x = u+v\n",
    "x = np.add(u,v)\n",
    "x"
   ]
  },
  {
   "cell_type": "markdown",
   "id": "84364f5a",
   "metadata": {},
   "source": [
    "Broadcasting\n",
    "\n",
    "Quando precisamos fazer operações matriciais com arrays e elementos que não estão exatamente na mesma estrutura do array\n",
    "\n",
    "ex:\n",
    "\n",
    "import numpy as np\n",
    "\n",
    "a = np.array([1, 2, 3])\n",
    "b = 2\n",
    "\n",
    "result = a + b\n",
    "print(result)\n",
    "\n",
    "[3 4 5]"
   ]
  },
  {
   "cell_type": "markdown",
   "id": "453db407",
   "metadata": {},
   "source": [
    "O python replica os dados para serem percorridos por todo o array"
   ]
  },
  {
   "cell_type": "code",
   "execution_count": 7,
   "id": "34ea4d54",
   "metadata": {},
   "outputs": [
    {
     "name": "stdout",
     "output_type": "stream",
     "text": [
      "[[1. 1.]\n",
      " [1. 1.]]\n",
      "[[1. 0.]\n",
      " [0. 1.]]\n"
     ]
    }
   ],
   "source": [
    "#Operações aritméticas com arrays\n",
    "\n",
    "x = np.ones((2,2))\n",
    "y = np.eye(2)\n",
    "\n",
    "\n",
    "print(x)\n",
    "print(y)"
   ]
  },
  {
   "cell_type": "code",
   "execution_count": 11,
   "id": "8073ee37",
   "metadata": {},
   "outputs": [
    {
     "name": "stdout",
     "output_type": "stream",
     "text": [
      "x +y: \n",
      " [[2. 1.]\n",
      " [1. 2.]]\n",
      "soma com float / int: \n",
      " [[3. 3.]\n",
      " [3. 3.]]\n"
     ]
    }
   ],
   "source": [
    "#Soma\n",
    "print(\"x +y: \\n\", x+y)\n",
    "\n",
    "print(\"soma com float / int: \\n\", x+2)"
   ]
  },
  {
   "cell_type": "code",
   "execution_count": 12,
   "id": "80d3cf9e",
   "metadata": {},
   "outputs": [
    {
     "name": "stdout",
     "output_type": "stream",
     "text": [
      "subtração de 2 arrays: \n",
      " [[0. 1.]\n",
      " [1. 0.]]\n",
      "subtração de x por 2: \n",
      " [[-1. -1.]\n",
      " [-1. -1.]]\n"
     ]
    }
   ],
   "source": [
    "#Subtração\n",
    "print(\"subtração de 2 arrays: \\n\", x-y)\n",
    "print(\"subtração de x por 2: \\n\", x-2) # broadcasting"
   ]
  },
  {
   "cell_type": "code",
   "execution_count": 13,
   "id": "c1566246",
   "metadata": {},
   "outputs": [
    {
     "name": "stdout",
     "output_type": "stream",
     "text": [
      "divisão de 2 arrays: \n",
      " [[ 1. inf]\n",
      " [inf  1.]]\n",
      "divisão de x por 2: \n",
      " [[0.5 0.5]\n",
      " [0.5 0.5]]\n"
     ]
    },
    {
     "name": "stderr",
     "output_type": "stream",
     "text": [
      "C:\\Users\\jpkun\\AppData\\Local\\Temp\\ipykernel_17588\\4175621888.py:2: RuntimeWarning: divide by zero encountered in divide\n",
      "  print(\"divisão de 2 arrays: \\n\", x/y)\n"
     ]
    }
   ],
   "source": [
    "#divisão\n",
    "print(\"divisão de 2 arrays: \\n\", x/y)\n",
    "print(\"divisão de x por 2: \\n\", x/2) # broadcasting"
   ]
  },
  {
   "cell_type": "code",
   "execution_count": 14,
   "id": "c7260ed2",
   "metadata": {},
   "outputs": [
    {
     "ename": "ValueError",
     "evalue": "operands could not be broadcast together with shapes (3,) (2,) ",
     "output_type": "error",
     "traceback": [
      "\u001b[1;31m---------------------------------------------------------------------------\u001b[0m",
      "\u001b[1;31mValueError\u001b[0m                                Traceback (most recent call last)",
      "Cell \u001b[1;32mIn[14], line 2\u001b[0m\n\u001b[0;32m      1\u001b[0m \u001b[38;5;66;03m#Quando o broadcasting não funciona\u001b[39;00m\n\u001b[1;32m----> 2\u001b[0m np\u001b[38;5;241m.\u001b[39marray([\u001b[38;5;241m1\u001b[39m,\u001b[38;5;241m2\u001b[39m,\u001b[38;5;241m3\u001b[39m])\u001b[38;5;241m+\u001b[39m np\u001b[38;5;241m.\u001b[39marray([\u001b[38;5;241m1\u001b[39m,\u001b[38;5;241m2\u001b[39m])\n",
      "\u001b[1;31mValueError\u001b[0m: operands could not be broadcast together with shapes (3,) (2,) "
     ]
    }
   ],
   "source": [
    "#Quando o broadcasting não funciona\n",
    "np.array([1,2,3])+ np.array([1,2])"
   ]
  },
  {
   "cell_type": "code",
   "execution_count": 18,
   "id": "3be6aeb5",
   "metadata": {},
   "outputs": [
    {
     "name": "stdout",
     "output_type": "stream",
     "text": [
      "[[1. 1.]\n",
      " [1. 1.]]\n",
      "multiplicação de x por y: \n",
      " [[1. 0.]\n",
      " [0. 1.]]\n",
      "multiplicação de x por 2: \n",
      " [[2. 2.]\n",
      " [2. 2.]]\n"
     ]
    }
   ],
   "source": [
    "#Multiplicação\n",
    "print(x)\n",
    "print(\"multiplicação de x por y: \\n\", x*y)\n",
    "print(\"multiplicação de x por 2: \\n\", x*2)"
   ]
  },
  {
   "cell_type": "code",
   "execution_count": 20,
   "id": "44e85761",
   "metadata": {},
   "outputs": [
    {
     "name": "stdout",
     "output_type": "stream",
     "text": [
      "x: \n",
      " [[1. 1.]\n",
      " [1. 1.]] \n",
      "\n",
      "y: \n",
      " [[1. 0.]\n",
      " [0. 1.]] \n",
      "\n",
      "multiplicação matricial (np.dot): \n",
      " [[1. 1.]\n",
      " [1. 1.]]\n"
     ]
    }
   ],
   "source": [
    "#Multiplicação matricial\n",
    "print(\"x: \\n\",x, \"\\n\")\n",
    "print(\"y: \\n\",y,\"\\n\")\n",
    "\n",
    "\n",
    "print(\"multiplicação matricial (np.dot): \\n\", np.dot(x,y))"
   ]
  }
 ],
 "metadata": {
  "kernelspec": {
   "display_name": "base",
   "language": "python",
   "name": "python3"
  },
  "language_info": {
   "codemirror_mode": {
    "name": "ipython",
    "version": 3
   },
   "file_extension": ".py",
   "mimetype": "text/x-python",
   "name": "python",
   "nbconvert_exporter": "python",
   "pygments_lexer": "ipython3",
   "version": "3.12.4"
  }
 },
 "nbformat": 4,
 "nbformat_minor": 5
}
