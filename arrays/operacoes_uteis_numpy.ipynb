{
 "cells": [
  {
   "cell_type": "code",
   "execution_count": 8,
   "id": "fc3f01e8",
   "metadata": {},
   "outputs": [],
   "source": [
    "import numpy as np"
   ]
  },
  {
   "cell_type": "code",
   "execution_count": 9,
   "id": "fb1b84d4",
   "metadata": {},
   "outputs": [
    {
     "name": "stdout",
     "output_type": "stream",
     "text": [
      "[[13 13  2]\n",
      " [ 2  3  2]\n",
      " [18  6 24]]\n",
      "transformação de um vetor em coluna: \n",
      " [[13]\n",
      " [13]\n",
      " [ 2]\n",
      " [ 2]\n",
      " [ 3]\n",
      " [ 2]\n",
      " [18]\n",
      " [ 6]\n",
      " [24]]\n"
     ]
    }
   ],
   "source": [
    "#Transformando uma matriz em um vetor coluna\n",
    "#reshape(l,c)\n",
    "#Os números do reshape tem que ser compatível com o produto das dimensões do array original\n",
    "#Um array de 9 elementos, teria quer ter um reshape 9,1 ou 1,9\n",
    "\n",
    "arr = np.array(np.random.randint(1,30, size = (3,3)))\n",
    "print(arr)\n",
    "\n",
    "print(\"transformação de um vetor em coluna: \\n\", arr.reshape(9,1))"
   ]
  },
  {
   "cell_type": "markdown",
   "id": "96b9a687",
   "metadata": {},
   "source": [
    "Transposição de matriz\n",
    "O que é linha vira coluna, o que é coluna vira linha"
   ]
  },
  {
   "cell_type": "code",
   "execution_count": 11,
   "id": "3fe2a1a4",
   "metadata": {},
   "outputs": [
    {
     "name": "stdout",
     "output_type": "stream",
     "text": [
      "Matriz transposta: \n",
      " [[13  2 18]\n",
      " [13  3  6]\n",
      " [ 2  2 24]]\n"
     ]
    }
   ],
   "source": [
    "print(\"Matriz transposta: \\n\", arr.T)"
   ]
  },
  {
   "cell_type": "code",
   "execution_count": 14,
   "id": "60d76d8e",
   "metadata": {},
   "outputs": [
    {
     "name": "stdout",
     "output_type": "stream",
     "text": [
      "soma de todos os elementos do array:  83\n",
      "soma do array ao longo das linhas [33 22 28]\n",
      "soma do arraya o longo das colunas:  [28  7 48]\n"
     ]
    }
   ],
   "source": [
    "#Somar os elementos da matriz ao longo de um determinado eixo, ou todos os elementos do arrya\n",
    "#linhas -> axis = 0\n",
    "#colunas -> axis = 1\n",
    "print(\"soma de todos os elementos do array: \",arr.sum())\n",
    "print(\"soma do array ao longo das linhas\", np.sum(arr, axis=0))\n",
    "print(\"soma do arraya o longo das colunas: \", np.sum(arr, axis = 1))"
   ]
  },
  {
   "cell_type": "code",
   "execution_count": 20,
   "id": "36cd5a62",
   "metadata": {},
   "outputs": [
    {
     "name": "stdout",
     "output_type": "stream",
     "text": [
      "[[13 13  2]\n",
      " [ 2  3  2]\n",
      " [18  6 24]]\n",
      "médis de todos os elementos do array:  9.222222222222221\n",
      "médias do eixo x:  [11.          7.33333333  9.33333333]\n",
      "médias do eixo y:  [ 9.33333333  2.33333333 16.        ]\n"
     ]
    }
   ],
   "source": [
    "#Tirar a média das linhas e colunas\n",
    "#np.mean -> média em um dado eixo, axis = {0: linha, 1:coluna}\n",
    "print(arr)\n",
    "\n",
    "print(\"médis de todos os elementos do array: \", arr.mean())\n",
    "print(\"médias do eixo x: \", np.mean(arr, axis = 0))\n",
    "print(\"médias do eixo y: \", np.mean(arr, axis = 1))"
   ]
  },
  {
   "cell_type": "code",
   "execution_count": 24,
   "id": "7dbe81d7",
   "metadata": {},
   "outputs": [
    {
     "name": "stdout",
     "output_type": "stream",
     "text": [
      "(array([0, 1, 1, 2, 2, 2], dtype=int64), array([2, 0, 2, 0, 1, 2], dtype=int64))\n"
     ]
    }
   ],
   "source": [
    "#np.where\n",
    "#Identificação dos índices onde uma dada condição booleana é atendida. Uso conjunto com indexação booleana\n",
    "cond = arr % 2 ==0\n",
    "print(np.where(cond))"
   ]
  }
 ],
 "metadata": {
  "kernelspec": {
   "display_name": "base",
   "language": "python",
   "name": "python3"
  },
  "language_info": {
   "codemirror_mode": {
    "name": "ipython",
    "version": 3
   },
   "file_extension": ".py",
   "mimetype": "text/x-python",
   "name": "python",
   "nbconvert_exporter": "python",
   "pygments_lexer": "ipython3",
   "version": "3.12.4"
  }
 },
 "nbformat": 4,
 "nbformat_minor": 5
}
