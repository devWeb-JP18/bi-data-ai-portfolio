{
 "cells": [
  {
   "cell_type": "code",
   "execution_count": 1,
   "id": "7d7608eb",
   "metadata": {},
   "outputs": [],
   "source": [
    "import numpy as np"
   ]
  },
  {
   "cell_type": "markdown",
   "id": "542150a8",
   "metadata": {},
   "source": [
    "Comparações\n",
    "-operações elemento a elemento\n",
    "Saber se um array ou valor é maior, menor, ou igual a outro valor ou array"
   ]
  },
  {
   "cell_type": "code",
   "execution_count": 4,
   "id": "18520af5",
   "metadata": {},
   "outputs": [
    {
     "name": "stdout",
     "output_type": "stream",
     "text": [
      "comparação maior:\n",
      "[False  True  True]\n",
      "[False False False]\n",
      "comparação menor:\n",
      "[ True False False]\n",
      "[ True  True False]\n",
      "comparação igual:\n",
      "[False False False]\n",
      "[False False False]\n"
     ]
    }
   ],
   "source": [
    "a = np.array([1,2,3])\n",
    "b = np.array([2,0,2])\n",
    "s = 3\n",
    "\n",
    "print(\"comparação maior:\")\n",
    "print(a>b)\n",
    "print(a>s)\n",
    "\n",
    "print(\"comparação menor:\")\n",
    "print(a<b)\n",
    "print(a<s)\n",
    "\n",
    "print(\"comparação igual:\")\n",
    "print(a==b)\n",
    "print(a==b)"
   ]
  },
  {
   "cell_type": "markdown",
   "id": "3f833833",
   "metadata": {},
   "source": [
    "Indexação booleana\n",
    "filtro para verificar valores que satisfazem uma certa condição"
   ]
  },
  {
   "cell_type": "code",
   "execution_count": null,
   "id": "25261a0b",
   "metadata": {},
   "outputs": [
    {
     "data": {
      "text/plain": [
       "array([1, 2])"
      ]
     },
     "execution_count": 6,
     "metadata": {},
     "output_type": "execute_result"
    }
   ],
   "source": [
    "#Cria um array booleano onde os valores de A são menor ou igual o 2\n",
    "cond = a<=2\n",
    "\n",
    "#cria um array para receber a, mas somente com os valores da condição cond\n",
    "d = a[cond]\n",
    "d"
   ]
  },
  {
   "cell_type": "markdown",
   "id": "24bcaf9a",
   "metadata": {},
   "source": [
    "Indexação booleana\n",
    "Realizar uma operação de filtro e retornar em um subarray contendo uma cópia dos elementos somente onde a condição de filtro se aplica"
   ]
  },
  {
   "cell_type": "code",
   "execution_count": 8,
   "id": "8e8947b7",
   "metadata": {},
   "outputs": [
    {
     "name": "stdout",
     "output_type": "stream",
     "text": [
      "x: \n",
      " [[1 2]\n",
      " [3 4]]\n",
      "y: \n",
      " [1.5 3.5]\n"
     ]
    }
   ],
   "source": [
    "x = np.array([[1,2],[3,4]])\n",
    "y = np.array([1.5, 3.5])\n",
    "\n",
    "print(\"x: \\n\", x)\n",
    "print(\"y: \\n\",y)"
   ]
  },
  {
   "cell_type": "code",
   "execution_count": 13,
   "id": "26bd6ca4",
   "metadata": {},
   "outputs": [
    {
     "data": {
      "text/plain": [
       "array([[16, 26, 43],\n",
       "       [ 1,  9, 46],\n",
       "       [47,  6, 24]])"
      ]
     },
     "execution_count": 13,
     "metadata": {},
     "output_type": "execute_result"
    }
   ],
   "source": [
    "x = np.array(np.random.randint(1,50, size = (3,3)))\n",
    "x"
   ]
  },
  {
   "cell_type": "code",
   "execution_count": 24,
   "id": "3c8fec66",
   "metadata": {},
   "outputs": [
    {
     "name": "stdout",
     "output_type": "stream",
     "text": [
      "[[ True  True  True]\n",
      " [False False  True]\n",
      " [ True False  True]] \n",
      "\n",
      "Elementos maiores que 10 do array: \n",
      " [16 26 43 46 47 24] \n",
      "\n",
      "número de elementos maiores que 10:  6 \n",
      "\n",
      "[[ True  True False]\n",
      " [False False  True]\n",
      " [False  True  True]] \n",
      "\n",
      "números pares:  [16 26 46  6 24] \n",
      "\n",
      "quantidade de números pares: 5\n"
     ]
    }
   ],
   "source": [
    "#Indexação booleana\n",
    "#retornar o número de elementos maiores que k\n",
    "\n",
    "k=10\n",
    "cond = x>k\n",
    "print(cond,\"\\n\")\n",
    "\n",
    "arr = x[cond]\n",
    "print(\"Elementos maiores que 10 do array: \\n\",arr,\"\\n\")\n",
    "\n",
    "print(f\"número de elementos maiores que {k}: \", len(arr),\"\\n\")\n",
    "\n",
    "x_pares = cond = x%2==0\n",
    "print(x_pares,\"\\n\")\n",
    "\n",
    "pares = x[x_pares]\n",
    "print(\"números pares: \",pares,\"\\n\")\n",
    "\n",
    "print(\"quantidade de números pares:\",len(pares))\n"
   ]
  }
 ],
 "metadata": {
  "kernelspec": {
   "display_name": "base",
   "language": "python",
   "name": "python3"
  },
  "language_info": {
   "codemirror_mode": {
    "name": "ipython",
    "version": 3
   },
   "file_extension": ".py",
   "mimetype": "text/x-python",
   "name": "python",
   "nbconvert_exporter": "python",
   "pygments_lexer": "ipython3",
   "version": "3.12.4"
  }
 },
 "nbformat": 4,
 "nbformat_minor": 5
}
