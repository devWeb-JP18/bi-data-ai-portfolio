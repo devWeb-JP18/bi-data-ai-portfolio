{
 "cells": [
  {
   "cell_type": "code",
   "execution_count": 20,
   "id": "33631dd7",
   "metadata": {},
   "outputs": [],
   "source": [
    "import pandas as pd \n",
    "import numpy as np"
   ]
  },
  {
   "cell_type": "code",
   "execution_count": 21,
   "id": "ddb556b4",
   "metadata": {},
   "outputs": [
    {
     "data": {
      "text/html": [
       "<div>\n",
       "<style scoped>\n",
       "    .dataframe tbody tr th:only-of-type {\n",
       "        vertical-align: middle;\n",
       "    }\n",
       "\n",
       "    .dataframe tbody tr th {\n",
       "        vertical-align: top;\n",
       "    }\n",
       "\n",
       "    .dataframe thead th {\n",
       "        text-align: right;\n",
       "    }\n",
       "</style>\n",
       "<table border=\"1\" class=\"dataframe\">\n",
       "  <thead>\n",
       "    <tr style=\"text-align: right;\">\n",
       "      <th></th>\n",
       "      <th>id</th>\n",
       "      <th>name</th>\n",
       "      <th>genre</th>\n",
       "      <th>artists</th>\n",
       "      <th>album</th>\n",
       "      <th>popularity</th>\n",
       "      <th>duration_ms</th>\n",
       "      <th>explicit</th>\n",
       "    </tr>\n",
       "  </thead>\n",
       "  <tbody>\n",
       "    <tr>\n",
       "      <th>0</th>\n",
       "      <td>7kr3xZk4yb3YSZ4VFtg2Qt</td>\n",
       "      <td>Acoustic</td>\n",
       "      <td>acoustic</td>\n",
       "      <td>Billy Raffoul</td>\n",
       "      <td>1975</td>\n",
       "      <td>58</td>\n",
       "      <td>172199</td>\n",
       "      <td>False</td>\n",
       "    </tr>\n",
       "    <tr>\n",
       "      <th>1</th>\n",
       "      <td>1kJygfS4eoVziBBI93MSYp</td>\n",
       "      <td>Acoustic</td>\n",
       "      <td>acoustic</td>\n",
       "      <td>Billy Raffoul</td>\n",
       "      <td>A Few More Hours at YYZ</td>\n",
       "      <td>57</td>\n",
       "      <td>172202</td>\n",
       "      <td>False</td>\n",
       "    </tr>\n",
       "    <tr>\n",
       "      <th>2</th>\n",
       "      <td>6lynns69p4zTCRxmmiSY1x</td>\n",
       "      <td>Here Comes the Sun - Acoustic</td>\n",
       "      <td>acoustic</td>\n",
       "      <td>Molly Hocking, Bailey Rushlow</td>\n",
       "      <td>Here Comes the Sun (Acoustic)</td>\n",
       "      <td>42</td>\n",
       "      <td>144786</td>\n",
       "      <td>False</td>\n",
       "    </tr>\n",
       "    <tr>\n",
       "      <th>3</th>\n",
       "      <td>1RC9slv335IfLce5vt9KTW</td>\n",
       "      <td>Acoustic #3</td>\n",
       "      <td>acoustic</td>\n",
       "      <td>The Goo Goo Dolls</td>\n",
       "      <td>Dizzy up the Girl</td>\n",
       "      <td>46</td>\n",
       "      <td>116573</td>\n",
       "      <td>False</td>\n",
       "    </tr>\n",
       "    <tr>\n",
       "      <th>4</th>\n",
       "      <td>5o9L8xBuILoVjLECSBi7Vo</td>\n",
       "      <td>My Love Mine All Mine - Acoustic Instrumental</td>\n",
       "      <td>acoustic</td>\n",
       "      <td>Guus Dielissen, Casper Esmann</td>\n",
       "      <td>My Love Mine All Mine (Acoustic Instrumental)</td>\n",
       "      <td>33</td>\n",
       "      <td>133922</td>\n",
       "      <td>False</td>\n",
       "    </tr>\n",
       "    <tr>\n",
       "      <th>...</th>\n",
       "      <td>...</td>\n",
       "      <td>...</td>\n",
       "      <td>...</td>\n",
       "      <td>...</td>\n",
       "      <td>...</td>\n",
       "      <td>...</td>\n",
       "      <td>...</td>\n",
       "      <td>...</td>\n",
       "    </tr>\n",
       "    <tr>\n",
       "      <th>6295</th>\n",
       "      <td>4uveHSzaz8YEbTF9j6QlCI</td>\n",
       "      <td>Voyage to Atlantis</td>\n",
       "      <td>world-music</td>\n",
       "      <td>Future World Music</td>\n",
       "      <td>Reign of Vengeance</td>\n",
       "      <td>25</td>\n",
       "      <td>180001</td>\n",
       "      <td>False</td>\n",
       "    </tr>\n",
       "    <tr>\n",
       "      <th>6296</th>\n",
       "      <td>4u15cjyziW2Ewn5Ek3082l</td>\n",
       "      <td>L'Oiseau</td>\n",
       "      <td>world-music</td>\n",
       "      <td>Putumayo, Marianne Perrudin, Thomas Artaud</td>\n",
       "      <td>Global Relaxation by Putumayo</td>\n",
       "      <td>25</td>\n",
       "      <td>276776</td>\n",
       "      <td>False</td>\n",
       "    </tr>\n",
       "    <tr>\n",
       "      <th>6297</th>\n",
       "      <td>56pHPaTeX2O9aVmTFYS8hV</td>\n",
       "      <td>The Daintree</td>\n",
       "      <td>world-music</td>\n",
       "      <td>Joseph Tawadros</td>\n",
       "      <td>World Music</td>\n",
       "      <td>12</td>\n",
       "      <td>69533</td>\n",
       "      <td>False</td>\n",
       "    </tr>\n",
       "    <tr>\n",
       "      <th>6298</th>\n",
       "      <td>6Ldyc5TsR4kaUsuHKcB2AD</td>\n",
       "      <td>The Sorcerers Symphony</td>\n",
       "      <td>world-music</td>\n",
       "      <td>Future World Music</td>\n",
       "      <td>Behold</td>\n",
       "      <td>26</td>\n",
       "      <td>90001</td>\n",
       "      <td>False</td>\n",
       "    </tr>\n",
       "    <tr>\n",
       "      <th>6299</th>\n",
       "      <td>3ry0f8ybk8upUBIk8unvmF</td>\n",
       "      <td>Fiore d'inverno</td>\n",
       "      <td>world-music</td>\n",
       "      <td>Putumayo, Giacomo Lariccia</td>\n",
       "      <td>World Party 5 by Putumayo</td>\n",
       "      <td>25</td>\n",
       "      <td>141800</td>\n",
       "      <td>False</td>\n",
       "    </tr>\n",
       "  </tbody>\n",
       "</table>\n",
       "<p>6300 rows × 8 columns</p>\n",
       "</div>"
      ],
      "text/plain": [
       "                          id                                           name  \\\n",
       "0     7kr3xZk4yb3YSZ4VFtg2Qt                                       Acoustic   \n",
       "1     1kJygfS4eoVziBBI93MSYp                                       Acoustic   \n",
       "2     6lynns69p4zTCRxmmiSY1x                  Here Comes the Sun - Acoustic   \n",
       "3     1RC9slv335IfLce5vt9KTW                                    Acoustic #3   \n",
       "4     5o9L8xBuILoVjLECSBi7Vo  My Love Mine All Mine - Acoustic Instrumental   \n",
       "...                      ...                                            ...   \n",
       "6295  4uveHSzaz8YEbTF9j6QlCI                             Voyage to Atlantis   \n",
       "6296  4u15cjyziW2Ewn5Ek3082l                                       L'Oiseau   \n",
       "6297  56pHPaTeX2O9aVmTFYS8hV                                   The Daintree   \n",
       "6298  6Ldyc5TsR4kaUsuHKcB2AD                         The Sorcerers Symphony   \n",
       "6299  3ry0f8ybk8upUBIk8unvmF                                Fiore d'inverno   \n",
       "\n",
       "            genre                                     artists  \\\n",
       "0        acoustic                               Billy Raffoul   \n",
       "1        acoustic                               Billy Raffoul   \n",
       "2        acoustic               Molly Hocking, Bailey Rushlow   \n",
       "3        acoustic                           The Goo Goo Dolls   \n",
       "4        acoustic               Guus Dielissen, Casper Esmann   \n",
       "...           ...                                         ...   \n",
       "6295  world-music                          Future World Music   \n",
       "6296  world-music  Putumayo, Marianne Perrudin, Thomas Artaud   \n",
       "6297  world-music                             Joseph Tawadros   \n",
       "6298  world-music                          Future World Music   \n",
       "6299  world-music                  Putumayo, Giacomo Lariccia   \n",
       "\n",
       "                                              album  popularity  duration_ms  \\\n",
       "0                                              1975          58       172199   \n",
       "1                           A Few More Hours at YYZ          57       172202   \n",
       "2                     Here Comes the Sun (Acoustic)          42       144786   \n",
       "3                                 Dizzy up the Girl          46       116573   \n",
       "4     My Love Mine All Mine (Acoustic Instrumental)          33       133922   \n",
       "...                                             ...         ...          ...   \n",
       "6295                             Reign of Vengeance          25       180001   \n",
       "6296                  Global Relaxation by Putumayo          25       276776   \n",
       "6297                                    World Music          12        69533   \n",
       "6298                                         Behold          26        90001   \n",
       "6299                      World Party 5 by Putumayo          25       141800   \n",
       "\n",
       "      explicit  \n",
       "0        False  \n",
       "1        False  \n",
       "2        False  \n",
       "3        False  \n",
       "4        False  \n",
       "...        ...  \n",
       "6295     False  \n",
       "6296     False  \n",
       "6297     False  \n",
       "6298     False  \n",
       "6299     False  \n",
       "\n",
       "[6300 rows x 8 columns]"
      ]
     },
     "execution_count": 21,
     "metadata": {},
     "output_type": "execute_result"
    }
   ],
   "source": [
    "path = r\"C:\\Users\\jpkun\\OneDrive\\Documentos\\Trilha_Python-Data-AI\\pratica\\desafios-casos-reais\\spotify\\spotify_tracks.csv\"\n",
    "df = pd.read_csv(path)\n",
    "\n",
    "df"
   ]
  },
  {
   "cell_type": "code",
   "execution_count": 22,
   "id": "9612ef17",
   "metadata": {},
   "outputs": [
    {
     "name": "stdout",
     "output_type": "stream",
     "text": [
      "<class 'pandas.core.frame.DataFrame'>\n",
      "RangeIndex: 6300 entries, 0 to 6299\n",
      "Data columns (total 8 columns):\n",
      " #   Column       Non-Null Count  Dtype \n",
      "---  ------       --------------  ----- \n",
      " 0   id           6300 non-null   object\n",
      " 1   name         6300 non-null   object\n",
      " 2   genre        6300 non-null   object\n",
      " 3   artists      6300 non-null   object\n",
      " 4   album        6300 non-null   object\n",
      " 5   popularity   6300 non-null   int64 \n",
      " 6   duration_ms  6300 non-null   int64 \n",
      " 7   explicit     6300 non-null   bool  \n",
      "dtypes: bool(1), int64(2), object(5)\n",
      "memory usage: 350.8+ KB\n"
     ]
    }
   ],
   "source": [
    "df.info()"
   ]
  },
  {
   "cell_type": "markdown",
   "id": "d12c8272",
   "metadata": {},
   "source": [
    "**O conjunto possui valores nulos?**"
   ]
  },
  {
   "cell_type": "code",
   "execution_count": 23,
   "id": "2c92a8a3",
   "metadata": {},
   "outputs": [
    {
     "name": "stdout",
     "output_type": "stream",
     "text": [
      "id             0\n",
      "name           0\n",
      "genre          0\n",
      "artists        0\n",
      "album          0\n",
      "popularity     0\n",
      "duration_ms    0\n",
      "explicit       0\n",
      "dtype: int64\n"
     ]
    },
    {
     "data": {
      "text/html": [
       "<div>\n",
       "<style scoped>\n",
       "    .dataframe tbody tr th:only-of-type {\n",
       "        vertical-align: middle;\n",
       "    }\n",
       "\n",
       "    .dataframe tbody tr th {\n",
       "        vertical-align: top;\n",
       "    }\n",
       "\n",
       "    .dataframe thead th {\n",
       "        text-align: right;\n",
       "    }\n",
       "</style>\n",
       "<table border=\"1\" class=\"dataframe\">\n",
       "  <thead>\n",
       "    <tr style=\"text-align: right;\">\n",
       "      <th></th>\n",
       "      <th>id</th>\n",
       "      <th>name</th>\n",
       "      <th>genre</th>\n",
       "      <th>artists</th>\n",
       "      <th>album</th>\n",
       "      <th>popularity</th>\n",
       "      <th>duration_ms</th>\n",
       "      <th>explicit</th>\n",
       "    </tr>\n",
       "  </thead>\n",
       "  <tbody>\n",
       "    <tr>\n",
       "      <th>0</th>\n",
       "      <td>NaN</td>\n",
       "      <td>NaN</td>\n",
       "      <td>NaN</td>\n",
       "      <td>NaN</td>\n",
       "      <td>NaN</td>\n",
       "      <td>NaN</td>\n",
       "      <td>NaN</td>\n",
       "      <td>NaN</td>\n",
       "    </tr>\n",
       "    <tr>\n",
       "      <th>1</th>\n",
       "      <td>NaN</td>\n",
       "      <td>NaN</td>\n",
       "      <td>NaN</td>\n",
       "      <td>NaN</td>\n",
       "      <td>NaN</td>\n",
       "      <td>NaN</td>\n",
       "      <td>NaN</td>\n",
       "      <td>NaN</td>\n",
       "    </tr>\n",
       "    <tr>\n",
       "      <th>2</th>\n",
       "      <td>NaN</td>\n",
       "      <td>NaN</td>\n",
       "      <td>NaN</td>\n",
       "      <td>NaN</td>\n",
       "      <td>NaN</td>\n",
       "      <td>NaN</td>\n",
       "      <td>NaN</td>\n",
       "      <td>NaN</td>\n",
       "    </tr>\n",
       "    <tr>\n",
       "      <th>3</th>\n",
       "      <td>NaN</td>\n",
       "      <td>NaN</td>\n",
       "      <td>NaN</td>\n",
       "      <td>NaN</td>\n",
       "      <td>NaN</td>\n",
       "      <td>NaN</td>\n",
       "      <td>NaN</td>\n",
       "      <td>NaN</td>\n",
       "    </tr>\n",
       "    <tr>\n",
       "      <th>4</th>\n",
       "      <td>NaN</td>\n",
       "      <td>NaN</td>\n",
       "      <td>NaN</td>\n",
       "      <td>NaN</td>\n",
       "      <td>NaN</td>\n",
       "      <td>NaN</td>\n",
       "      <td>NaN</td>\n",
       "      <td>NaN</td>\n",
       "    </tr>\n",
       "    <tr>\n",
       "      <th>...</th>\n",
       "      <td>...</td>\n",
       "      <td>...</td>\n",
       "      <td>...</td>\n",
       "      <td>...</td>\n",
       "      <td>...</td>\n",
       "      <td>...</td>\n",
       "      <td>...</td>\n",
       "      <td>...</td>\n",
       "    </tr>\n",
       "    <tr>\n",
       "      <th>6295</th>\n",
       "      <td>NaN</td>\n",
       "      <td>NaN</td>\n",
       "      <td>NaN</td>\n",
       "      <td>NaN</td>\n",
       "      <td>NaN</td>\n",
       "      <td>NaN</td>\n",
       "      <td>NaN</td>\n",
       "      <td>NaN</td>\n",
       "    </tr>\n",
       "    <tr>\n",
       "      <th>6296</th>\n",
       "      <td>NaN</td>\n",
       "      <td>NaN</td>\n",
       "      <td>NaN</td>\n",
       "      <td>NaN</td>\n",
       "      <td>NaN</td>\n",
       "      <td>NaN</td>\n",
       "      <td>NaN</td>\n",
       "      <td>NaN</td>\n",
       "    </tr>\n",
       "    <tr>\n",
       "      <th>6297</th>\n",
       "      <td>NaN</td>\n",
       "      <td>NaN</td>\n",
       "      <td>NaN</td>\n",
       "      <td>NaN</td>\n",
       "      <td>NaN</td>\n",
       "      <td>NaN</td>\n",
       "      <td>NaN</td>\n",
       "      <td>NaN</td>\n",
       "    </tr>\n",
       "    <tr>\n",
       "      <th>6298</th>\n",
       "      <td>NaN</td>\n",
       "      <td>NaN</td>\n",
       "      <td>NaN</td>\n",
       "      <td>NaN</td>\n",
       "      <td>NaN</td>\n",
       "      <td>NaN</td>\n",
       "      <td>NaN</td>\n",
       "      <td>NaN</td>\n",
       "    </tr>\n",
       "    <tr>\n",
       "      <th>6299</th>\n",
       "      <td>NaN</td>\n",
       "      <td>NaN</td>\n",
       "      <td>NaN</td>\n",
       "      <td>NaN</td>\n",
       "      <td>NaN</td>\n",
       "      <td>NaN</td>\n",
       "      <td>NaN</td>\n",
       "      <td>NaN</td>\n",
       "    </tr>\n",
       "  </tbody>\n",
       "</table>\n",
       "<p>6300 rows × 8 columns</p>\n",
       "</div>"
      ],
      "text/plain": [
       "       id name genre artists album  popularity  duration_ms explicit\n",
       "0     NaN  NaN   NaN     NaN   NaN         NaN          NaN      NaN\n",
       "1     NaN  NaN   NaN     NaN   NaN         NaN          NaN      NaN\n",
       "2     NaN  NaN   NaN     NaN   NaN         NaN          NaN      NaN\n",
       "3     NaN  NaN   NaN     NaN   NaN         NaN          NaN      NaN\n",
       "4     NaN  NaN   NaN     NaN   NaN         NaN          NaN      NaN\n",
       "...   ...  ...   ...     ...   ...         ...          ...      ...\n",
       "6295  NaN  NaN   NaN     NaN   NaN         NaN          NaN      NaN\n",
       "6296  NaN  NaN   NaN     NaN   NaN         NaN          NaN      NaN\n",
       "6297  NaN  NaN   NaN     NaN   NaN         NaN          NaN      NaN\n",
       "6298  NaN  NaN   NaN     NaN   NaN         NaN          NaN      NaN\n",
       "6299  NaN  NaN   NaN     NaN   NaN         NaN          NaN      NaN\n",
       "\n",
       "[6300 rows x 8 columns]"
      ]
     },
     "execution_count": 23,
     "metadata": {},
     "output_type": "execute_result"
    }
   ],
   "source": [
    "nulos_por_coluna = df.isna().sum()\n",
    "print(nulos_por_coluna)\n",
    "\n",
    "cond_nulos = df.isna()\n",
    "df_com_nulos = df[cond_nulos]\n",
    "df_com_nulos"
   ]
  },
  {
   "cell_type": "markdown",
   "id": "da2393ec",
   "metadata": {},
   "source": [
    "**1 - Quantas músicas únicas existem no dataset?**"
   ]
  },
  {
   "cell_type": "code",
   "execution_count": 24,
   "id": "989df461",
   "metadata": {},
   "outputs": [
    {
     "name": "stdout",
     "output_type": "stream",
     "text": [
      "Existem 4518 músicas únicas\n"
     ]
    }
   ],
   "source": [
    "unicos = df['name'].nunique()\n",
    "unicos\n",
    "\n",
    "print(f\"Existem {unicos} músicas únicas\")"
   ]
  },
  {
   "cell_type": "markdown",
   "id": "2d503f1c",
   "metadata": {},
   "source": [
    "**2 - Quais são os 5 gêneros mais frequentes?**"
   ]
  },
  {
   "cell_type": "code",
   "execution_count": 46,
   "id": "549eed88",
   "metadata": {},
   "outputs": [
    {
     "name": "stdout",
     "output_type": "stream",
     "text": [
      "             id  name  artists  album  popularity  duration_ms  explicit\n",
      "genre                                                                   \n",
      "acoustic     50    50       50     50          50           50        50\n",
      "afrobeat     50    50       50     50          50           50        50\n",
      "alt-rock     50    50       50     50          50           50        50\n",
      "alternative  50    50       50     50          50           50        50\n",
      "ambient      50    50       50     50          50           50        50\n",
      "...          ..   ...      ...    ...         ...          ...       ...\n",
      "trance       50    50       50     50          50           50        50\n",
      "trip-hop     50    50       50     50          50           50        50\n",
      "turkish      50    50       50     50          50           50        50\n",
      "work-out     50    50       50     50          50           50        50\n",
      "world-music  50    50       50     50          50           50        50\n",
      "\n",
      "[126 rows x 7 columns]\n",
      "Todos os genêros possuem a mesma quantidade de músicas\n"
     ]
    }
   ],
   "source": [
    "\n",
    "group = df.groupby('genre').count()\n",
    "group.sort_values(by='name', ascending = False)\n",
    "print(group)\n",
    "\n",
    "print(\"Todos os genêros possuem a mesma quantidade de músicas\")"
   ]
  },
  {
   "cell_type": "markdown",
   "id": "24cb04b3",
   "metadata": {},
   "source": [
    "**3 - Qual é a média de popularidade das músicas por gênero?**"
   ]
  },
  {
   "cell_type": "code",
   "execution_count": 47,
   "id": "649aa1a2",
   "metadata": {},
   "outputs": [
    {
     "data": {
      "text/plain": [
       "genre\n",
       "acoustic       26.28\n",
       "afrobeat       27.00\n",
       "alt-rock       30.18\n",
       "alternative    26.72\n",
       "ambient        32.60\n",
       "               ...  \n",
       "trance         34.34\n",
       "trip-hop       23.00\n",
       "turkish        23.12\n",
       "work-out       25.32\n",
       "world-music    22.56\n",
       "Name: popularity, Length: 126, dtype: float64"
      ]
     },
     "execution_count": 47,
     "metadata": {},
     "output_type": "execute_result"
    }
   ],
   "source": [
    "group = df.groupby('genre')['popularity'].mean()\n",
    "group"
   ]
  },
  {
   "cell_type": "markdown",
   "id": "ff14f275",
   "metadata": {},
   "source": [
    "**4 - Quais são os 5 gêneros mais populares?**"
   ]
  },
  {
   "cell_type": "code",
   "execution_count": 66,
   "id": "89027538",
   "metadata": {},
   "outputs": [
    {
     "name": "stdout",
     "output_type": "stream",
     "text": [
      "Verificando genêros mais populares:                   genre  popularity\n",
      "99                rock       60.34\n",
      "21               dance       57.52\n",
      "86                 pop       57.32\n",
      "116             summer       57.06\n",
      "20             country       56.50\n",
      "..                 ...         ...\n",
      "76      minimal-techno       12.34\n",
      "74          metal-misc       11.30\n",
      "90   progressive-house       10.60\n",
      "25      detroit-techno       10.36\n",
      "43           grindcore        9.64\n",
      "\n",
      "[126 rows x 2 columns]\n",
      "Os genêros mais populares são:\n",
      "rock\n",
      "dance\n",
      "pop\n",
      "summer\n",
      "country\n"
     ]
    }
   ],
   "source": [
    "groupa = df.groupby('genre')['popularity'].mean().reset_index()\n",
    "groupa.sort_values(by='popularity',ascending=False, inplace = True)\n",
    "print(\"Verificando genêros mais populares: \", groupa)\n",
    "generos_populares = groupa['genre'].head()\n",
    "\n",
    "print(\"Os genêros mais populares são:\")\n",
    "for x in generos_populares:\n",
    "    print(x)\n",
    "    \n",
    "\n"
   ]
  },
  {
   "cell_type": "markdown",
   "id": "f1d7b197",
   "metadata": {},
   "source": [
    "**5-Quantas músicas possuem conteúdo explícito? Qual é a porcentagem em relação ao total?**"
   ]
  },
  {
   "cell_type": "code",
   "execution_count": 82,
   "id": "8393cfff",
   "metadata": {},
   "outputs": [
    {
     "name": "stdout",
     "output_type": "stream",
     "text": [
      "São 1194 músicas explícitas, representando um total de 18.95%\n"
     ]
    }
   ],
   "source": [
    "#O shape mostra a quantidade de linhas [0] e colunas [1]\n",
    "cond = df['explicit']==True\n",
    "quant_explicit = df[cond].shape[0]\n",
    "quant_explicit\n",
    "\n",
    "total_tracks = df.shape[0]\n",
    "percent_explicit = (quant_explicit/total_tracks) *100\n",
    "\n",
    "print(f\"São {quant_explicit} músicas explícitas, representando um total de {percent_explicit:.2f}%\")"
   ]
  },
  {
   "cell_type": "markdown",
   "id": "6a8adc60",
   "metadata": {},
   "source": [
    "**6 - Qual é a música mais longa e a mais curta (em minutos)?**"
   ]
  },
  {
   "cell_type": "code",
   "execution_count": 101,
   "id": "f06561d4",
   "metadata": {},
   "outputs": [
    {
     "name": "stdout",
     "output_type": "stream",
     "text": [
      "A música mais longa é 'Afrobeat 2023 Mixtape' com 60.03 minutos.\n",
      "A música mais curta é 'Rockabilly' com 0.50 minutos.\n"
     ]
    }
   ],
   "source": [
    "long_music = df.loc[df['duration_ms'].idxmax(), [\"name\",'duration_ms']]\n",
    "\n",
    "# Acessar o nome\n",
    "nome = long_music['name']\n",
    "\n",
    "# Acessar a duração\n",
    "duracao_ms = long_music['duration_ms']\n",
    "\n",
    "# Converter para minutos\n",
    "duracao_min = duracao_ms / (1000 * 60)\n",
    "\n",
    "print(f\"A música mais longa é '{nome}' com {duracao_min:.2f} minutos.\")\n",
    "\n",
    "short_music = df.loc[df['duration_ms'].idxmin(), [\"name\",\"duration_ms\"]]\n",
    "\n",
    "name = short_music['name']\n",
    "duracao_ms = short_music['duration_ms']\n",
    "duracao_min = duracao_ms / (1000 * 60)\n",
    "\n",
    "print(f\"A música mais curta é '{name}' com {duracao_min:.2f} minutos.\")\n",
    "\n"
   ]
  },
  {
   "cell_type": "markdown",
   "id": "dfa8a881",
   "metadata": {},
   "source": [
    "**6 - Quais artistas têm mais faixas no dataset?**"
   ]
  },
  {
   "cell_type": "code",
   "execution_count": 109,
   "id": "b348730e",
   "metadata": {},
   "outputs": [
    {
     "name": "stdout",
     "output_type": "stream",
     "text": [
      "Os 5 artistas com mais faixa: \n",
      " artists\n",
      "Metallica                     22\n",
      "ONE OK ROCK                   20\n",
      "Chicago House Selection       18\n",
      "Death                         17\n",
      "Progressive House Sessions    16\n",
      "Name: name, dtype: int64\n"
     ]
    }
   ],
   "source": [
    "group = df.groupby(by='artists')['name'].count()\n",
    "group.sort_values(ascending = False, inplace = True)\n",
    "\n",
    "#Obtendo os 5 artistas com mais faixas\n",
    "most_tracks = group.head()\n",
    "print(\"Os 5 artistas com mais faixa: \\n\", most_tracks)"
   ]
  },
  {
   "cell_type": "markdown",
   "id": "8299ed92",
   "metadata": {},
   "source": [
    "***Perguntas de Produto***"
   ]
  },
  {
   "cell_type": "markdown",
   "id": "0b30060d",
   "metadata": {},
   "source": [
    "*2. As músicas explícitas representam quantos % da popularidade? Usuários preferem faixas explícitas?*"
   ]
  },
  {
   "cell_type": "code",
   "execution_count": null,
   "id": "5323ee28",
   "metadata": {},
   "outputs": [
    {
     "name": "stdout",
     "output_type": "stream",
     "text": [
      "As faixas com teor explícito representam 20.75 % do total de popularidade \n",
      "As faixas sem teor explícito representam 79.25 % do total de popularidade \n"
     ]
    }
   ],
   "source": [
    "explicit_tracks = df.loc[df['explicit']==True, ['popularity']].sum()\n",
    "popularity_explicit_tracks = explicit_tracks['popularity']\n",
    "\n",
    "not_explicit_tracks = df.loc[df['explicit']==False, ['popularity']].sum()\n",
    "popularity_not_explicit_tracks = not_explicit_tracks['popularity']\n",
    "popularity_not_explicit_tracks\n",
    "\n",
    "total_popularity = df['popularity'].sum()\n",
    "\n",
    "percent_popularity_explicit_tracks_of_total = (popularity_explicit_tracks/total_popularity) *100\n",
    "percent_not_popularity_explicit_tracks_of_total = (popularity_not_explicit_tracks/total_popularity) *100\n",
    "\n",
    "print(f\"As faixas com teor explícito representam {percent_popularity_explicit_tracks_of_total:.2f} % do total de popularidade \")\n",
    "print(f\"As faixas sem teor explícito representam {percent_not_popularity_explicit_tracks_of_total:.2f} % do total de popularidade \")"
   ]
  },
  {
   "cell_type": "markdown",
   "id": "2c1ab082",
   "metadata": {},
   "source": [
    "*Qual a média de popularidade das faixas explícitas?*"
   ]
  },
  {
   "cell_type": "code",
   "execution_count": 138,
   "id": "2d081f47",
   "metadata": {},
   "outputs": [
    {
     "name": "stdout",
     "output_type": "stream",
     "text": [
      "Popularidade das faixas explícitas: 33.67 %\n",
      "Popularidade das faixas não explícitas: 30.07 %\n",
      "Podemos concluir que músicas explícitas não são populares, logo não vale a pena investir esforço nesta iniciativa\n"
     ]
    }
   ],
   "source": [
    "mean_explicit = df[df['explicit'] == True]['popularity'].describe()['mean']\n",
    "mean_not_explicit = df[df['explicit'] == False]['popularity'].describe()['mean']\n",
    "\n",
    "print(f\"Popularidade das faixas explícitas: {mean_explicit:.2f} %\")\n",
    "print(f\"Popularidade das faixas não explícitas: {mean_not_explicit:.2f} %\")\n",
    "\n",
    "print(\"Podemos concluir que músicas explícitas não são populares, logo não vale a pena investir esforço nesta iniciativa\")"
   ]
  },
  {
   "cell_type": "markdown",
   "id": "74d7e4e3",
   "metadata": {},
   "source": [
    "*3 - Quais artistas têm melhor performance média de popularidade? Isso poderia indicar potencial para parcerias ou destaque na plataforma?*"
   ]
  },
  {
   "cell_type": "code",
   "execution_count": 157,
   "id": "0adbd0dd",
   "metadata": {},
   "outputs": [
    {
     "name": "stdout",
     "output_type": "stream",
     "text": [
      "Os artistas mais populares são: \n",
      "Dream Supplier, Baby Sleeps, Background White Noise  com popularidade = 88.00%\n",
      "Harry Styles  com popularidade = 87.00%\n",
      "Central Cee, Lil Baby  com popularidade = 87.00%\n",
      "The Weeknd, JENNIE, Lily-Rose Depp  com popularidade = 87.00%\n",
      "ILLIT  com popularidade = 86.00%\n"
     ]
    }
   ],
   "source": [
    "df_popular_artists = df.groupby(by=['artists'])['popularity'].mean().reset_index().sort_values(by='popularity', ascending = False)\n",
    "more_popular_artists = df_popular_artists.head()\n",
    "\n",
    "print(\"Os artistas mais populares são: \")\n",
    "for index, row in more_popular_artists.iterrows():\n",
    "    print(row['artists'], f\" com popularidade = {row['popularity']:.2f}%\")"
   ]
  },
  {
   "cell_type": "markdown",
   "id": "fc31586d",
   "metadata": {},
   "source": [
    "*As faixas mais populares tendem a estar em álbuns com mais ou menos músicas?\n",
    "→ Pode sugerir que usuários preferem álbuns curtos ou longos.*"
   ]
  }
 ],
 "metadata": {
  "kernelspec": {
   "display_name": "base",
   "language": "python",
   "name": "python3"
  },
  "language_info": {
   "codemirror_mode": {
    "name": "ipython",
    "version": 3
   },
   "file_extension": ".py",
   "mimetype": "text/x-python",
   "name": "python",
   "nbconvert_exporter": "python",
   "pygments_lexer": "ipython3",
   "version": "3.12.4"
  }
 },
 "nbformat": 4,
 "nbformat_minor": 5
}
