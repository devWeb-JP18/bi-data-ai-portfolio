{
 "cells": [
  {
   "cell_type": "code",
   "execution_count": 1,
   "id": "9fe38c41",
   "metadata": {},
   "outputs": [],
   "source": [
    "import numpy as np\n",
    "import pandas as pd"
   ]
  },
  {
   "cell_type": "code",
   "execution_count": 2,
   "id": "3de140b0",
   "metadata": {},
   "outputs": [
    {
     "data": {
      "text/html": [
       "<div>\n",
       "<style scoped>\n",
       "    .dataframe tbody tr th:only-of-type {\n",
       "        vertical-align: middle;\n",
       "    }\n",
       "\n",
       "    .dataframe tbody tr th {\n",
       "        vertical-align: top;\n",
       "    }\n",
       "\n",
       "    .dataframe thead th {\n",
       "        text-align: right;\n",
       "    }\n",
       "</style>\n",
       "<table border=\"1\" class=\"dataframe\">\n",
       "  <thead>\n",
       "    <tr style=\"text-align: right;\">\n",
       "      <th></th>\n",
       "      <th>Unnamed: 0</th>\n",
       "      <th>Date</th>\n",
       "      <th>Q-P1</th>\n",
       "      <th>Q-P2</th>\n",
       "      <th>Q-P3</th>\n",
       "      <th>Q-P4</th>\n",
       "      <th>S-P1</th>\n",
       "      <th>S-P2</th>\n",
       "      <th>S-P3</th>\n",
       "      <th>S-P4</th>\n",
       "    </tr>\n",
       "  </thead>\n",
       "  <tbody>\n",
       "    <tr>\n",
       "      <th>0</th>\n",
       "      <td>0</td>\n",
       "      <td>13-06-2010</td>\n",
       "      <td>5422</td>\n",
       "      <td>3725</td>\n",
       "      <td>576</td>\n",
       "      <td>907</td>\n",
       "      <td>17187.74</td>\n",
       "      <td>23616.50</td>\n",
       "      <td>3121.92</td>\n",
       "      <td>6466.91</td>\n",
       "    </tr>\n",
       "    <tr>\n",
       "      <th>1</th>\n",
       "      <td>1</td>\n",
       "      <td>14-06-2010</td>\n",
       "      <td>7047</td>\n",
       "      <td>779</td>\n",
       "      <td>3578</td>\n",
       "      <td>1574</td>\n",
       "      <td>22338.99</td>\n",
       "      <td>4938.86</td>\n",
       "      <td>19392.76</td>\n",
       "      <td>11222.62</td>\n",
       "    </tr>\n",
       "    <tr>\n",
       "      <th>2</th>\n",
       "      <td>2</td>\n",
       "      <td>15-06-2010</td>\n",
       "      <td>1572</td>\n",
       "      <td>2082</td>\n",
       "      <td>595</td>\n",
       "      <td>1145</td>\n",
       "      <td>4983.24</td>\n",
       "      <td>13199.88</td>\n",
       "      <td>3224.90</td>\n",
       "      <td>8163.85</td>\n",
       "    </tr>\n",
       "    <tr>\n",
       "      <th>3</th>\n",
       "      <td>3</td>\n",
       "      <td>16-06-2010</td>\n",
       "      <td>5657</td>\n",
       "      <td>2399</td>\n",
       "      <td>3140</td>\n",
       "      <td>1672</td>\n",
       "      <td>17932.69</td>\n",
       "      <td>15209.66</td>\n",
       "      <td>17018.80</td>\n",
       "      <td>11921.36</td>\n",
       "    </tr>\n",
       "    <tr>\n",
       "      <th>4</th>\n",
       "      <td>4</td>\n",
       "      <td>17-06-2010</td>\n",
       "      <td>3668</td>\n",
       "      <td>3207</td>\n",
       "      <td>2184</td>\n",
       "      <td>708</td>\n",
       "      <td>11627.56</td>\n",
       "      <td>20332.38</td>\n",
       "      <td>11837.28</td>\n",
       "      <td>5048.04</td>\n",
       "    </tr>\n",
       "    <tr>\n",
       "      <th>...</th>\n",
       "      <td>...</td>\n",
       "      <td>...</td>\n",
       "      <td>...</td>\n",
       "      <td>...</td>\n",
       "      <td>...</td>\n",
       "      <td>...</td>\n",
       "      <td>...</td>\n",
       "      <td>...</td>\n",
       "      <td>...</td>\n",
       "      <td>...</td>\n",
       "    </tr>\n",
       "    <tr>\n",
       "      <th>4595</th>\n",
       "      <td>4595</td>\n",
       "      <td>30-01-2023</td>\n",
       "      <td>2476</td>\n",
       "      <td>3419</td>\n",
       "      <td>525</td>\n",
       "      <td>1359</td>\n",
       "      <td>7848.92</td>\n",
       "      <td>21676.46</td>\n",
       "      <td>2845.50</td>\n",
       "      <td>9689.67</td>\n",
       "    </tr>\n",
       "    <tr>\n",
       "      <th>4596</th>\n",
       "      <td>4596</td>\n",
       "      <td>31-01-2023</td>\n",
       "      <td>7446</td>\n",
       "      <td>841</td>\n",
       "      <td>4825</td>\n",
       "      <td>1311</td>\n",
       "      <td>23603.82</td>\n",
       "      <td>5331.94</td>\n",
       "      <td>26151.50</td>\n",
       "      <td>9347.43</td>\n",
       "    </tr>\n",
       "    <tr>\n",
       "      <th>4597</th>\n",
       "      <td>4597</td>\n",
       "      <td>01-02-2023</td>\n",
       "      <td>6289</td>\n",
       "      <td>3143</td>\n",
       "      <td>3588</td>\n",
       "      <td>474</td>\n",
       "      <td>19936.13</td>\n",
       "      <td>19926.62</td>\n",
       "      <td>19446.96</td>\n",
       "      <td>3379.62</td>\n",
       "    </tr>\n",
       "    <tr>\n",
       "      <th>4598</th>\n",
       "      <td>4598</td>\n",
       "      <td>02-02-2023</td>\n",
       "      <td>3122</td>\n",
       "      <td>1188</td>\n",
       "      <td>5899</td>\n",
       "      <td>517</td>\n",
       "      <td>9896.74</td>\n",
       "      <td>7531.92</td>\n",
       "      <td>31972.58</td>\n",
       "      <td>3686.21</td>\n",
       "    </tr>\n",
       "    <tr>\n",
       "      <th>4599</th>\n",
       "      <td>4599</td>\n",
       "      <td>03-02-2023</td>\n",
       "      <td>1234</td>\n",
       "      <td>3854</td>\n",
       "      <td>2321</td>\n",
       "      <td>406</td>\n",
       "      <td>3911.78</td>\n",
       "      <td>24434.36</td>\n",
       "      <td>12579.82</td>\n",
       "      <td>2894.78</td>\n",
       "    </tr>\n",
       "  </tbody>\n",
       "</table>\n",
       "<p>4600 rows × 10 columns</p>\n",
       "</div>"
      ],
      "text/plain": [
       "      Unnamed: 0        Date  Q-P1  Q-P2  Q-P3  Q-P4      S-P1      S-P2  \\\n",
       "0              0  13-06-2010  5422  3725   576   907  17187.74  23616.50   \n",
       "1              1  14-06-2010  7047   779  3578  1574  22338.99   4938.86   \n",
       "2              2  15-06-2010  1572  2082   595  1145   4983.24  13199.88   \n",
       "3              3  16-06-2010  5657  2399  3140  1672  17932.69  15209.66   \n",
       "4              4  17-06-2010  3668  3207  2184   708  11627.56  20332.38   \n",
       "...          ...         ...   ...   ...   ...   ...       ...       ...   \n",
       "4595        4595  30-01-2023  2476  3419   525  1359   7848.92  21676.46   \n",
       "4596        4596  31-01-2023  7446   841  4825  1311  23603.82   5331.94   \n",
       "4597        4597  01-02-2023  6289  3143  3588   474  19936.13  19926.62   \n",
       "4598        4598  02-02-2023  3122  1188  5899   517   9896.74   7531.92   \n",
       "4599        4599  03-02-2023  1234  3854  2321   406   3911.78  24434.36   \n",
       "\n",
       "          S-P3      S-P4  \n",
       "0      3121.92   6466.91  \n",
       "1     19392.76  11222.62  \n",
       "2      3224.90   8163.85  \n",
       "3     17018.80  11921.36  \n",
       "4     11837.28   5048.04  \n",
       "...        ...       ...  \n",
       "4595   2845.50   9689.67  \n",
       "4596  26151.50   9347.43  \n",
       "4597  19446.96   3379.62  \n",
       "4598  31972.58   3686.21  \n",
       "4599  12579.82   2894.78  \n",
       "\n",
       "[4600 rows x 10 columns]"
      ]
     },
     "execution_count": 2,
     "metadata": {},
     "output_type": "execute_result"
    }
   ],
   "source": [
    "path = r\"C:\\Users\\jpkun\\OneDrive\\Documentos\\Trilha_Python-Data-AI\\pratica\\desafios-casos-reais\\statsfinal.csv\"\n",
    "df = pd.read_csv(path)\n",
    "df"
   ]
  },
  {
   "cell_type": "code",
   "execution_count": 9,
   "id": "432ce1d2",
   "metadata": {},
   "outputs": [
    {
     "name": "stdout",
     "output_type": "stream",
     "text": [
      "<class 'pandas.core.frame.DataFrame'>\n",
      "RangeIndex: 4600 entries, 0 to 4599\n",
      "Data columns (total 10 columns):\n",
      " #   Column      Non-Null Count  Dtype  \n",
      "---  ------      --------------  -----  \n",
      " 0   Unnamed: 0  4600 non-null   int64  \n",
      " 1   Date        4600 non-null   object \n",
      " 2   Q-P1        4600 non-null   int64  \n",
      " 3   Q-P2        4600 non-null   int64  \n",
      " 4   Q-P3        4600 non-null   int64  \n",
      " 5   Q-P4        4600 non-null   int64  \n",
      " 6   S-P1        4600 non-null   float64\n",
      " 7   S-P2        4600 non-null   float64\n",
      " 8   S-P3        4600 non-null   float64\n",
      " 9   S-P4        4600 non-null   float64\n",
      "dtypes: float64(4), int64(5), object(1)\n",
      "memory usage: 359.5+ KB\n"
     ]
    }
   ],
   "source": [
    "df.info()"
   ]
  },
  {
   "cell_type": "code",
   "execution_count": 10,
   "id": "0d231b22",
   "metadata": {},
   "outputs": [
    {
     "data": {
      "text/html": [
       "<div>\n",
       "<style scoped>\n",
       "    .dataframe tbody tr th:only-of-type {\n",
       "        vertical-align: middle;\n",
       "    }\n",
       "\n",
       "    .dataframe tbody tr th {\n",
       "        vertical-align: top;\n",
       "    }\n",
       "\n",
       "    .dataframe thead th {\n",
       "        text-align: right;\n",
       "    }\n",
       "</style>\n",
       "<table border=\"1\" class=\"dataframe\">\n",
       "  <thead>\n",
       "    <tr style=\"text-align: right;\">\n",
       "      <th></th>\n",
       "      <th>Unnamed: 0</th>\n",
       "      <th>Q-P1</th>\n",
       "      <th>Q-P2</th>\n",
       "      <th>Q-P3</th>\n",
       "      <th>Q-P4</th>\n",
       "      <th>S-P1</th>\n",
       "      <th>S-P2</th>\n",
       "      <th>S-P3</th>\n",
       "      <th>S-P4</th>\n",
       "    </tr>\n",
       "  </thead>\n",
       "  <tbody>\n",
       "    <tr>\n",
       "      <th>count</th>\n",
       "      <td>4600.000000</td>\n",
       "      <td>4600.000000</td>\n",
       "      <td>4600.000000</td>\n",
       "      <td>4600.000000</td>\n",
       "      <td>4600.000000</td>\n",
       "      <td>4600.000000</td>\n",
       "      <td>4600.000000</td>\n",
       "      <td>4600.000000</td>\n",
       "      <td>4600.000000</td>\n",
       "    </tr>\n",
       "    <tr>\n",
       "      <th>mean</th>\n",
       "      <td>2299.500000</td>\n",
       "      <td>4121.849130</td>\n",
       "      <td>2130.281522</td>\n",
       "      <td>3145.740000</td>\n",
       "      <td>1123.500000</td>\n",
       "      <td>13066.261743</td>\n",
       "      <td>13505.984848</td>\n",
       "      <td>17049.910800</td>\n",
       "      <td>8010.555000</td>\n",
       "    </tr>\n",
       "    <tr>\n",
       "      <th>std</th>\n",
       "      <td>1328.049949</td>\n",
       "      <td>2244.271323</td>\n",
       "      <td>1089.783705</td>\n",
       "      <td>1671.832231</td>\n",
       "      <td>497.385676</td>\n",
       "      <td>7114.340094</td>\n",
       "      <td>6909.228687</td>\n",
       "      <td>9061.330694</td>\n",
       "      <td>3546.359869</td>\n",
       "    </tr>\n",
       "    <tr>\n",
       "      <th>min</th>\n",
       "      <td>0.000000</td>\n",
       "      <td>254.000000</td>\n",
       "      <td>251.000000</td>\n",
       "      <td>250.000000</td>\n",
       "      <td>250.000000</td>\n",
       "      <td>805.180000</td>\n",
       "      <td>1591.340000</td>\n",
       "      <td>1355.000000</td>\n",
       "      <td>1782.500000</td>\n",
       "    </tr>\n",
       "    <tr>\n",
       "      <th>25%</th>\n",
       "      <td>1149.750000</td>\n",
       "      <td>2150.500000</td>\n",
       "      <td>1167.750000</td>\n",
       "      <td>1695.750000</td>\n",
       "      <td>696.000000</td>\n",
       "      <td>6817.085000</td>\n",
       "      <td>7403.535000</td>\n",
       "      <td>9190.965000</td>\n",
       "      <td>4962.480000</td>\n",
       "    </tr>\n",
       "    <tr>\n",
       "      <th>50%</th>\n",
       "      <td>2299.500000</td>\n",
       "      <td>4137.000000</td>\n",
       "      <td>2134.000000</td>\n",
       "      <td>3202.500000</td>\n",
       "      <td>1136.500000</td>\n",
       "      <td>13114.290000</td>\n",
       "      <td>13529.560000</td>\n",
       "      <td>17357.550000</td>\n",
       "      <td>8103.245000</td>\n",
       "    </tr>\n",
       "    <tr>\n",
       "      <th>75%</th>\n",
       "      <td>3449.250000</td>\n",
       "      <td>6072.000000</td>\n",
       "      <td>3070.250000</td>\n",
       "      <td>4569.000000</td>\n",
       "      <td>1544.000000</td>\n",
       "      <td>19248.240000</td>\n",
       "      <td>19465.385000</td>\n",
       "      <td>24763.980000</td>\n",
       "      <td>11008.720000</td>\n",
       "    </tr>\n",
       "    <tr>\n",
       "      <th>max</th>\n",
       "      <td>4599.000000</td>\n",
       "      <td>7998.000000</td>\n",
       "      <td>3998.000000</td>\n",
       "      <td>6000.000000</td>\n",
       "      <td>2000.000000</td>\n",
       "      <td>25353.660000</td>\n",
       "      <td>25347.320000</td>\n",
       "      <td>32520.000000</td>\n",
       "      <td>14260.000000</td>\n",
       "    </tr>\n",
       "  </tbody>\n",
       "</table>\n",
       "</div>"
      ],
      "text/plain": [
       "        Unnamed: 0         Q-P1         Q-P2         Q-P3         Q-P4  \\\n",
       "count  4600.000000  4600.000000  4600.000000  4600.000000  4600.000000   \n",
       "mean   2299.500000  4121.849130  2130.281522  3145.740000  1123.500000   \n",
       "std    1328.049949  2244.271323  1089.783705  1671.832231   497.385676   \n",
       "min       0.000000   254.000000   251.000000   250.000000   250.000000   \n",
       "25%    1149.750000  2150.500000  1167.750000  1695.750000   696.000000   \n",
       "50%    2299.500000  4137.000000  2134.000000  3202.500000  1136.500000   \n",
       "75%    3449.250000  6072.000000  3070.250000  4569.000000  1544.000000   \n",
       "max    4599.000000  7998.000000  3998.000000  6000.000000  2000.000000   \n",
       "\n",
       "               S-P1          S-P2          S-P3          S-P4  \n",
       "count   4600.000000   4600.000000   4600.000000   4600.000000  \n",
       "mean   13066.261743  13505.984848  17049.910800   8010.555000  \n",
       "std     7114.340094   6909.228687   9061.330694   3546.359869  \n",
       "min      805.180000   1591.340000   1355.000000   1782.500000  \n",
       "25%     6817.085000   7403.535000   9190.965000   4962.480000  \n",
       "50%    13114.290000  13529.560000  17357.550000   8103.245000  \n",
       "75%    19248.240000  19465.385000  24763.980000  11008.720000  \n",
       "max    25353.660000  25347.320000  32520.000000  14260.000000  "
      ]
     },
     "execution_count": 10,
     "metadata": {},
     "output_type": "execute_result"
    }
   ],
   "source": [
    "df.describe()"
   ]
  },
  {
   "cell_type": "code",
   "execution_count": null,
   "id": "d1d0f788",
   "metadata": {},
   "outputs": [
    {
     "data": {
      "text/html": [
       "<div>\n",
       "<style scoped>\n",
       "    .dataframe tbody tr th:only-of-type {\n",
       "        vertical-align: middle;\n",
       "    }\n",
       "\n",
       "    .dataframe tbody tr th {\n",
       "        vertical-align: top;\n",
       "    }\n",
       "\n",
       "    .dataframe thead th {\n",
       "        text-align: right;\n",
       "    }\n",
       "</style>\n",
       "<table border=\"1\" class=\"dataframe\">\n",
       "  <thead>\n",
       "    <tr style=\"text-align: right;\">\n",
       "      <th></th>\n",
       "      <th>Q-P1</th>\n",
       "      <th>S-P1</th>\n",
       "      <th>Date</th>\n",
       "    </tr>\n",
       "  </thead>\n",
       "  <tbody>\n",
       "    <tr>\n",
       "      <th>0</th>\n",
       "      <td>5422</td>\n",
       "      <td>17187.74</td>\n",
       "      <td>13-06-2010</td>\n",
       "    </tr>\n",
       "    <tr>\n",
       "      <th>2217</th>\n",
       "      <td>5422</td>\n",
       "      <td>17187.74</td>\n",
       "      <td>18-07-2016</td>\n",
       "    </tr>\n",
       "  </tbody>\n",
       "</table>\n",
       "</div>"
      ],
      "text/plain": [
       "      Q-P1      S-P1        Date\n",
       "0     5422  17187.74  13-06-2010\n",
       "2217  5422  17187.74  18-07-2016"
      ]
     },
     "execution_count": 8,
     "metadata": {},
     "output_type": "execute_result"
    }
   ],
   "source": [
    "#Exemplo de loc com dados\n",
    "df.loc[df[\"S-P1\"]==17187.74, [\"Q-P1\",\"S-P1\",\"Date\"]]"
   ]
  },
  {
   "cell_type": "markdown",
   "id": "866865b4",
   "metadata": {},
   "source": [
    "**1 - Quantas linhas (ou registros) existem no seu dataset?**\n"
   ]
  },
  {
   "cell_type": "code",
   "execution_count": 33,
   "id": "507d1b2e",
   "metadata": {},
   "outputs": [
    {
     "name": "stdout",
     "output_type": "stream",
     "text": [
      "4600\n",
      "Existem 4600 linhas\n"
     ]
    }
   ],
   "source": [
    "num_linhas = len(df)\n",
    "print(num_linhas)\n",
    "\n",
    "# ou \n",
    "\n",
    "print( f\"Existem {num_linhas} linhas\")"
   ]
  },
  {
   "cell_type": "markdown",
   "id": "986d7c69",
   "metadata": {},
   "source": [
    "**De que período até que período vão os dados (primeira e última data)?**"
   ]
  },
  {
   "cell_type": "code",
   "execution_count": null,
   "id": "149809b7",
   "metadata": {},
   "outputs": [
    {
     "name": "stdout",
     "output_type": "stream",
     "text": [
      "Primeira data: 2010-06-13 00:00:00\n",
      "última data: 2023-02-03 00:00:00\n",
      "A diferença entre as datas é de 13 anos \n"
     ]
    }
   ],
   "source": [
    "df.sort_values(by= 'Date', inplace = True)\n",
    "df\n",
    "\n",
    "primeira_data = pd.to_datetime(df['Date'].min())\n",
    "ultima_data = pd.to_datetime(df['Date'].max())\n",
    "\n",
    "print(f\"Primeira data: {primeira_data}\")\n",
    "print(f\"última data: {ultima_data}\")\n",
    "\n",
    "diferenca = ultima_data.year - primeira_data.year\n",
    "\n",
    "print(f\"A diferença entre as datas é de {diferenca} anos \")"
   ]
  },
  {
   "cell_type": "markdown",
   "id": "736f4ef2",
   "metadata": {},
   "source": [
    "**Há valores ausentes (NaN) em alguma das colunas?**"
   ]
  },
  {
   "cell_type": "code",
   "execution_count": 91,
   "id": "217ef272",
   "metadata": {},
   "outputs": [
    {
     "name": "stdout",
     "output_type": "stream",
     "text": [
      "O total de valores nulos na coluna Date é 26\n"
     ]
    }
   ],
   "source": [
    "ausentes = df.isnull()\n",
    "#Aqui constatamos que apenas a coluna Date possui valores nulos\n",
    "\n",
    "ausentes = df[df['Date'].isna()]\n",
    "todos_ausentes = ausentes['Date']\n",
    "arr = np.array(todos_ausentes)\n",
    "\n",
    "total_ausentes = len(arr)\n",
    "print(f\"O total de valores nulos na coluna Date é {total_ausentes}\")\n",
    "\n"
   ]
  },
  {
   "cell_type": "code",
   "execution_count": 92,
   "id": "d469592c",
   "metadata": {},
   "outputs": [
    {
     "data": {
      "text/plain": [
       "Index(['Unnamed: 0', 'Date', 'Q-P1', 'Q-P2', 'Q-P3', 'Q-P4', 'S-P1', 'S-P2',\n",
       "       'S-P3', 'S-P4'],\n",
       "      dtype='object')"
      ]
     },
     "execution_count": 92,
     "metadata": {},
     "output_type": "execute_result"
    }
   ],
   "source": [
    "df.columns"
   ]
  },
  {
   "cell_type": "markdown",
   "id": "d2b7da50",
   "metadata": {},
   "source": [
    "**Qual foi o total de unidades vendidas para cada produto (P1 a P4)?**"
   ]
  },
  {
   "cell_type": "code",
   "execution_count": 116,
   "id": "565759aa",
   "metadata": {},
   "outputs": [
    {
     "name": "stdout",
     "output_type": "stream",
     "text": [
      "Q-P1    18960506\n",
      "Q-P2     9799295\n",
      "Q-P3    14470404\n",
      "Q-P4     5168100\n",
      "dtype: int64\n"
     ]
    }
   ],
   "source": [
    "df_total_unidades = df[['Q-P1', 'Q-P2', 'Q-P3', 'Q-P4']].sum()\n",
    "print(df_total_unidades)\n",
    "\n",
    "# Etapa Importante: Convertendo o Series em um DF para plotagem\n",
    "# Converta para DataFrame para plotagem\n",
    "df_plot = df_total_unidades.rename_axis('Produto').reset_index(name='Total de Unidades Vendidas')\n",
    "df_plot.set_index('Produto', inplace=True)\n",
    "\n",
    "#Essa linha está transformando uma Series em um DataFrame com duas colunas, e faz isso em duas etapas:\n",
    "\n",
    "#Passo 1 – rename_axis('Produto')\n",
    "#Dá um nome ao índice da Series (que são os nomes dos produtos). Isso é útil ao converter para DataFrame. Antes disso, os índices são anônimos.\n",
    "\n",
    "#Passo 2 – .reset_index(name='Total de Unidades Vendidas')\n",
    "#Transforma a Series em um DataFrame, movendo o índice (nomeado agora como 'Produto') para uma coluna, e os valores para outra coluna chamada 'Total de Unidades Vendidas'.\n"
   ]
  },
  {
   "cell_type": "code",
   "execution_count": 118,
   "id": "8fae6bf5",
   "metadata": {},
   "outputs": [
    {
     "data": {
      "image/png": "[encoded data removed]",
      "text/plain": [
       "<Figure size 1000x1000 with 1 Axes>"
      ]
     },
     "metadata": {},
     "output_type": "display_data"
    }
   ],
   "source": [
    "df_plot.plot(figsize=(10,10), grid = True, kind='bar', rot=45);"
   ]
  },
  {
   "cell_type": "markdown",
   "id": "a29ba231",
   "metadata": {},
   "source": [
    "**Qual foi a receita total gerada por cada produto (S-P1 a S-P4)?**"
   ]
  },
  {
   "cell_type": "code",
   "execution_count": 149,
   "id": "f658aaee",
   "metadata": {},
   "outputs": [
    {
     "data": {
      "text/html": [
       "<div>\n",
       "<style scoped>\n",
       "    .dataframe tbody tr th:only-of-type {\n",
       "        vertical-align: middle;\n",
       "    }\n",
       "\n",
       "    .dataframe tbody tr th {\n",
       "        vertical-align: top;\n",
       "    }\n",
       "\n",
       "    .dataframe thead th {\n",
       "        text-align: right;\n",
       "    }\n",
       "</style>\n",
       "<table border=\"1\" class=\"dataframe\">\n",
       "  <thead>\n",
       "    <tr style=\"text-align: right;\">\n",
       "      <th></th>\n",
       "      <th>Total vendido em R$</th>\n",
       "    </tr>\n",
       "    <tr>\n",
       "      <th>Produto</th>\n",
       "      <th></th>\n",
       "    </tr>\n",
       "  </thead>\n",
       "  <tbody>\n",
       "    <tr>\n",
       "      <th>S-P1</th>\n",
       "      <td>60104804.02</td>\n",
       "    </tr>\n",
       "    <tr>\n",
       "      <th>S-P2</th>\n",
       "      <td>62127530.30</td>\n",
       "    </tr>\n",
       "    <tr>\n",
       "      <th>S-P3</th>\n",
       "      <td>78429589.68</td>\n",
       "    </tr>\n",
       "    <tr>\n",
       "      <th>S-P4</th>\n",
       "      <td>36848553.00</td>\n",
       "    </tr>\n",
       "  </tbody>\n",
       "</table>\n",
       "</div>"
      ],
      "text/plain": [
       "         Total vendido em R$\n",
       "Produto                     \n",
       "S-P1             60104804.02\n",
       "S-P2             62127530.30\n",
       "S-P3             78429589.68\n",
       "S-P4             36848553.00"
      ]
     },
     "execution_count": 149,
     "metadata": {},
     "output_type": "execute_result"
    }
   ],
   "source": [
    "df_receita_total = df[['S-P1', 'S-P2','S-P3', 'S-P4']].sum()\n",
    "df_total_por_receita = df_receita_total.rename_axis('Produto').reset_index(name = 'Total vendido em R$')\n",
    "df_total_por_receita.set_index('Produto')"
   ]
  },
  {
   "cell_type": "code",
   "execution_count": 150,
   "id": "e357cd76",
   "metadata": {},
   "outputs": [
    {
     "data": {
      "text/html": [
       "<div>\n",
       "<style scoped>\n",
       "    .dataframe tbody tr th:only-of-type {\n",
       "        vertical-align: middle;\n",
       "    }\n",
       "\n",
       "    .dataframe tbody tr th {\n",
       "        vertical-align: top;\n",
       "    }\n",
       "\n",
       "    .dataframe thead th {\n",
       "        text-align: right;\n",
       "    }\n",
       "</style>\n",
       "<table border=\"1\" class=\"dataframe\">\n",
       "  <thead>\n",
       "    <tr style=\"text-align: right;\">\n",
       "      <th></th>\n",
       "      <th>Produto</th>\n",
       "      <th>Total vendido em R$</th>\n",
       "    </tr>\n",
       "  </thead>\n",
       "  <tbody>\n",
       "    <tr>\n",
       "      <th>0</th>\n",
       "      <td>S-P1</td>\n",
       "      <td>60104804.02</td>\n",
       "    </tr>\n",
       "    <tr>\n",
       "      <th>1</th>\n",
       "      <td>S-P2</td>\n",
       "      <td>62127530.30</td>\n",
       "    </tr>\n",
       "    <tr>\n",
       "      <th>2</th>\n",
       "      <td>S-P3</td>\n",
       "      <td>78429589.68</td>\n",
       "    </tr>\n",
       "    <tr>\n",
       "      <th>3</th>\n",
       "      <td>S-P4</td>\n",
       "      <td>36848553.00</td>\n",
       "    </tr>\n",
       "  </tbody>\n",
       "</table>\n",
       "</div>"
      ],
      "text/plain": [
       "  Produto  Total vendido em R$\n",
       "0    S-P1          60104804.02\n",
       "1    S-P2          62127530.30\n",
       "2    S-P3          78429589.68\n",
       "3    S-P4          36848553.00"
      ]
     },
     "execution_count": 150,
     "metadata": {},
     "output_type": "execute_result"
    }
   ],
   "source": [
    "from babel.numbers import format_currency\n",
    "\n",
    "df_total_por_receita['Total vendido em R$'] = df_total_por_receita['Total vendido em R$'].apply(\n",
    "    lambda x: format_currency(x, 'BRL', locale='pt_BR')\n",
    ")\n",
    "\n",
    "df_total_por_receita['Total vendido em R$'] = df_total_por_receita['Total vendido em R$'].apply(\n",
    "    lambda y: float(str(y).replace(\"\\xa0\", \"\").replace(\".\", \"\").replace(\",\", \".\").replace(\"R$\",\"\"))\n",
    ")\n",
    "\n",
    "\n",
    "\n",
    "\n",
    "df_total_por_receita\n"
   ]
  },
  {
   "cell_type": "code",
   "execution_count": 152,
   "id": "74ca4ad8",
   "metadata": {},
   "outputs": [
    {
     "data": {
      "image/png": "[encoded data removed]",
      "text/plain": [
       "<Figure size 700x700 with 1 Axes>"
      ]
     },
     "metadata": {},
     "output_type": "display_data"
    }
   ],
   "source": [
    "#Plotando o resultado\n",
    "df_plot = df_total_por_receita.set_index('Produto')\n",
    "\n",
    "df_plot.plot(kind='bar', figsize=(7,7), grid = True, rot=45);\n"
   ]
  }
 ],
 "metadata": {
  "kernelspec": {
   "display_name": "base",
   "language": "python",
   "name": "python3"
  },
  "language_info": {
   "codemirror_mode": {
    "name": "ipython",
    "version": 3
   },
   "file_extension": ".py",
   "mimetype": "text/x-python",
   "name": "python",
   "nbconvert_exporter": "python",
   "pygments_lexer": "ipython3",
   "version": "3.12.4"
  }
 },
 "nbformat": 4,
 "nbformat_minor": 5
}
